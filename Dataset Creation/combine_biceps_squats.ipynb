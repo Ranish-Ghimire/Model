{
 "cells": [
  {
   "cell_type": "code",
   "execution_count": 1,
   "id": "ce20f133-249d-4da3-98f0-5d9de89afb6e",
   "metadata": {},
   "source": [
    "import numpy as np"
   ],
   "outputs": []
  },
  {
   "cell_type": "code",
   "execution_count": 3,
   "id": "49841904-4593-42d7-a0ad-3e2487625748",
   "metadata": {},
   "source": [
    "def combine_mmap_files(input_x_paths, input_y_paths, output_x_path, output_y_path):\n",
    "\n",
    "    X_mmaps = [np.memmap(path, dtype='float32', mode='r', shape=(500, 15, 224, 224, 3)) for path in input_x_paths]\n",
    "    y_mmaps = [np.memmap(path, dtype='int32', mode='r', shape=(500,)) for path in input_y_paths]\n",
    "\n",
    "    total_sequences = sum(X.shape[0] for X in X_mmaps)\n",
    "    seq_length, height, width, channels = 15, 224, 224, 3\n",
    "\n",
    "    print(f\"Total sequences in the combined dataset: {total_sequences}\")\n",
    "\n",
    "    X_final = np.memmap(output_x_path, dtype='float32', mode='w+', shape=(total_sequences, seq_length, height, width, channels))\n",
    "    y_final = np.memmap(output_y_path, dtype='int32', mode='w+', shape=(total_sequences,))\n",
    "\n",
    "    offset = 0\n",
    "    for X, y in zip(X_mmaps, y_mmaps):\n",
    "        num_sequences = X.shape[0]\n",
    "        X_final[offset : offset + num_sequences] = X[:]\n",
    "        y_final[offset : offset + num_sequences] = y[:]\n",
    "        offset += num_sequences\n",
    "        print(f\"Processed {num_sequences} sequences from one file.\")\n",
    "\n",
    "    X_final.flush()\n",
    "    y_final.flush()\n",
    "\n",
    "    print(f\"Data successfully combined into {output_x_path} and {output_y_path}\")"
   ],
   "outputs": []
  },
  {
   "cell_type": "code",
   "execution_count": null,
   "id": "0129c645-263a-4db2-b84f-4e412a8f4517",
   "metadata": {},
   "source": [
    "input_x_paths = [r'E:\\PosePerfect\\Dataset Creation\\Without Augmentation\\X_biceps_7.5k.dat', r'E:\\PosePerfect\\Dataset Creation\\Without Augmentation\\X_squats_7.5k.dat']\n",
    "input_y_paths = [r'E:\\PosePerfect\\Dataset Creation\\Without Augmentation\\y_biceps_7.5k.dat', r'E:\\PosePerfect\\Dataset Creation\\Without Augmentation\\y_squats_7.5k.dat']\n",
    "\n",
    "output_x_path = 'X_combined_15k.dat'\n",
    "output_y_path = 'y_combined_15k.dat'\n",
    "\n",
    "combine_mmap_files(input_x_paths, input_y_paths, output_x_path, output_y_path)"
   ],
   "outputs": []
  },
  {
   "cell_type": "code",
   "execution_count": null,
   "id": "85d0ab35-d6a0-4230-b075-f1c37494a8a6",
   "metadata": {},
   "source": [],
   "outputs": []
  }
 ],
 "metadata": {
  "kernelspec": {
   "display_name": "Python 3 (ipykernel)",
   "language": "python",
   "name": "python3"
  },
  "language_info": {
   "codemirror_mode": {
    "name": "ipython",
    "version": 3
   },
   "file_extension": ".py",
   "mimetype": "text/x-python",
   "name": "python",
   "nbconvert_exporter": "python",
   "pygments_lexer": "ipython3",
   "version": "3.12.3"
  }
 },
 "nbformat": 4,
 "nbformat_minor": 5
}
