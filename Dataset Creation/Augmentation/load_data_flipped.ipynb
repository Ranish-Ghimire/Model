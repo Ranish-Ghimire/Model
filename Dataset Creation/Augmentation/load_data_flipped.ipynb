{
 "cells": [
  {
   "cell_type": "code",
   "id": "initial_id",
   "metadata": {
    "collapsed": true,
    "ExecuteTime": {
     "end_time": "2024-12-13T10:39:34.251390Z",
     "start_time": "2024-12-13T10:39:32.785372Z"
    }
   },
   "source": "import numpy as np",
   "execution_count": 1,
   "outputs": []
  },
  {
   "metadata": {
    "ExecuteTime": {
     "end_time": "2024-12-13T10:45:58.044736Z",
     "start_time": "2024-12-13T10:45:56.364375Z"
    }
   },
   "cell_type": "code",
   "source": [
    "output_x_path = 'X_flipped.dat'\n",
    "output_y_path = 'y_flipped.dat'\n",
    "\n",
    "X_shape = (2541, 10, 224, 224, 3)\n",
    "y_shape = (2541,)\n",
    "\n",
    "X_loaded = np.memmap(output_x_path, dtype='float32', mode='r', shape=X_shape)\n",
    "y_loaded = np.memmap(output_y_path, dtype='int32', mode='r', shape=y_shape)"
   ],
   "id": "e28d97b78f2badd3",
   "execution_count": 2,
   "outputs": []
  },
  {
   "metadata": {
    "ExecuteTime": {
     "end_time": "2024-12-13T10:45:59.572661Z",
     "start_time": "2024-12-13T10:45:59.542178Z"
    }
   },
   "cell_type": "code",
   "source": [
    "print(f\"X shape: {X_loaded.shape}\")\n",
    "print(f\"y shape: {y_loaded.shape}\")\n",
    "\n",
    "print(f\"First sequence shape: {X_loaded[0]}\")\n",
    "print(f\"First label: {y_loaded[0]}\")"
   ],
   "id": "c97876781404c094",
   "execution_count": 3,
   "outputs": []
  },
  {
   "metadata": {
    "ExecuteTime": {
     "end_time": "2024-12-13T10:49:13.896799Z",
     "start_time": "2024-12-13T10:49:13.609299Z"
    }
   },
   "cell_type": "code",
   "source": [
    "import matplotlib.pyplot as plt\n",
    "\n",
    "plt.imshow(X_loaded[2][9] )\n",
    "plt.axis('off')\n",
    "plt.show()"
   ],
   "id": "e4a97e8c956daf62",
   "execution_count": 8,
   "outputs": []
  },
  {
   "metadata": {
    "ExecuteTime": {
     "end_time": "2024-12-13T10:49:16.298668Z",
     "start_time": "2024-12-13T10:49:15.866399Z"
    }
   },
   "cell_type": "code",
   "source": [
    "import numpy as np\n",
    "from PIL import Image\n",
    "img = Image.open(r'E:\\PosePerfect\\Video_Frames\\Augmented_Frames\\Flipped\\biceps_curl\\flipped_biceps_curl_frame25.jpg').convert('RGB')\n",
    "img_array = np.array(img) / 255.0\n",
    "import matplotlib.pyplot as plt\n",
    "\n",
    "plt.imshow(img_array)\n",
    "plt.axis('off')\n",
    "plt.show()"
   ],
   "id": "25d7f562a738f4d4",
   "execution_count": 9,
   "outputs": []
  },
  {
   "metadata": {},
   "cell_type": "code",
   "execution_count": null,
   "source": "",
   "id": "ac496238c6b8e972",
   "outputs": []
  }
 ],
 "metadata": {
  "kernelspec": {
   "display_name": "Python 3",
   "language": "python",
   "name": "python3"
  },
  "language_info": {
   "codemirror_mode": {
    "name": "ipython",
    "version": 2
   },
   "file_extension": ".py",
   "mimetype": "text/x-python",
   "name": "python",
   "nbconvert_exporter": "python",
   "pygments_lexer": "ipython2",
   "version": "2.7.6"
  }
 },
 "nbformat": 4,
 "nbformat_minor": 5
}
