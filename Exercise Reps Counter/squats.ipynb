{
 "cells": [
  {
   "cell_type": "code",
   "id": "initial_id",
   "metadata": {
    "collapsed": true,
    "ExecuteTime": {
     "end_time": "2024-12-11T10:26:25.261946Z",
     "start_time": "2024-12-11T10:26:25.229765Z"
    }
   },
   "source": [
    "import cv2\n",
    "import mediapipe as mp\n",
    "import numpy as np\n",
    "mp_drawing = mp.solutions.drawing_utils\n",
    "mp_pose = mp.solutions.pose"
   ],
   "execution_count": 2,
   "outputs": []
  },
  {
   "metadata": {
    "ExecuteTime": {
     "end_time": "2024-12-11T10:26:26.391708Z",
     "start_time": "2024-12-11T10:26:26.372638Z"
    }
   },
   "cell_type": "code",
   "source": [
    "import math\n",
    "def calculate_angle(a, b):\n",
    "    a = np.array(a)\n",
    "    b = np.array(b)\n",
    "    vertical = np.array([0, 1])\n",
    "    \n",
    "    ba = a - b\n",
    "\n",
    "    mag_ba = math.sqrt(ba[0]**2 + ba[1]**2)\n",
    "    mag_vertical = 1\n",
    "    \n",
    "    radians = math.acos(np.dot(ba, vertical) / (mag_ba * mag_vertical))\n",
    "    \n",
    "    angle = np.abs(radians * 180 / np.pi)\n",
    "    \n",
    "    if angle > 180:\n",
    "        angle = 360 - angle\n",
    "    \n",
    "    return angle"
   ],
   "id": "4e416ff69313c664",
   "execution_count": 3,
   "outputs": []
  },
  {
   "metadata": {
    "ExecuteTime": {
     "end_time": "2024-12-11T10:27:59.895016Z",
     "start_time": "2024-12-11T10:27:59.880345Z"
    }
   },
   "cell_type": "code",
   "source": [
    "import math\n",
    "\n",
    "def calculate_angle_alt(shoulder, hip):\n",
    "    x1, y1 = shoulder\n",
    "    x2, y2 = hip\n",
    "\n",
    "    vector = (x1 - x2, y1 - y2)\n",
    "\n",
    "    vertical_vector = (0, -1)\n",
    "\n",
    "    dot_product = vector[0] * vertical_vector[0] + vector[1] * vertical_vector[1]\n",
    "\n",
    "    vector_magnitude = math.sqrt(vector[0]**2 + vector[1]**2)\n",
    "    vertical_magnitude = 1\n",
    "\n",
    "    angle_rad = math.acos(dot_product / (vector_magnitude * vertical_magnitude))\n",
    "\n",
    "    angle_deg = math.degrees(angle_rad)\n",
    "\n",
    "    return angle_deg"
   ],
   "id": "c135f07da8a948da",
   "execution_count": 8,
   "outputs": []
  },
  {
   "metadata": {
    "ExecuteTime": {
     "end_time": "2024-12-11T10:26:28.989416Z",
     "start_time": "2024-12-11T10:26:28.917023Z"
    }
   },
   "cell_type": "code",
   "source": "calculate_angle_alt((2,4),(4,2))",
   "id": "edc2fedac28118b2",
   "execution_count": 5,
   "outputs": []
  },
  {
   "metadata": {
    "ExecuteTime": {
     "end_time": "2024-12-11T10:26:35.365111Z",
     "start_time": "2024-12-11T10:26:35.334438Z"
    }
   },
   "cell_type": "code",
   "source": [
    "def draw_landmarks(image, landmarks, selected_landmarks, connections):\n",
    "    for idx in selected_landmarks:\n",
    "        lm = landmarks[idx]\n",
    "        h, w, _ = image.shape\n",
    "        cx, cy = int(lm.x * w), int(lm.y * h)\n",
    "        cv2.circle(image, (cx, cy), 5, (0, 255, 0), -1)\n",
    "\n",
    "    for connection in connections:\n",
    "        start_idx, end_idx = connection\n",
    "        if start_idx in selected_landmarks and end_idx in selected_landmarks:\n",
    "            start_lm = landmarks[start_idx]\n",
    "            end_lm = landmarks[end_idx]\n",
    "\n",
    "            start_coords = (int(start_lm.x * w), int(start_lm.y * h))\n",
    "            end_coords = (int(end_lm.x * w), int(end_lm.y * h))\n",
    "            cv2.line(image, start_coords, end_coords, (255, 0, 0), 2)\n",
    "            \n",
    "selected_landmarks = [\n",
    "    mp_pose.PoseLandmark.RIGHT_SHOULDER.value,\n",
    "    mp_pose.PoseLandmark.RIGHT_HIP.value,\n",
    "    mp_pose.PoseLandmark.RIGHT_KNEE.value,\n",
    "    mp_pose.PoseLandmark.RIGHT_ANKLE.value,\n",
    "    mp_pose.PoseLandmark.RIGHT_FOOT_INDEX.value,\n",
    "    # mp_pose.PoseLandmark.LEFT_SHOULDER.value,\n",
    "    # mp_pose.PoseLandmark.LEFT_HIP.value,\n",
    "    # mp_pose.PoseLandmark.LEFT_KNEE.value,\n",
    "    # mp_pose.PoseLandmark.LEFT_ANKLE.value,\n",
    "    # mp_pose.PoseLandmark.LEFT_FOOT_INDEX.value,\n",
    "]\n",
    "\n",
    "connections = [\n",
    "    (mp_pose.PoseLandmark.RIGHT_SHOULDER.value, mp_pose.PoseLandmark.RIGHT_HIP.value),\n",
    "    (mp_pose.PoseLandmark.RIGHT_HIP.value, mp_pose.PoseLandmark.RIGHT_KNEE.value),\n",
    "    (mp_pose.PoseLandmark.RIGHT_KNEE.value, mp_pose.PoseLandmark.RIGHT_ANKLE.value),\n",
    "    (mp_pose.PoseLandmark.RIGHT_ANKLE.value, mp_pose.PoseLandmark.RIGHT_FOOT_INDEX.value),\n",
    "    # (mp_pose.PoseLandmark.LEFT_SHOULDER.value, mp_pose.PoseLandmark.LEFT_HIP.value),\n",
    "    # (mp_pose.PoseLandmark.LEFT_HIP.value, mp_pose.PoseLandmark.LEFT_KNEE.value),\n",
    "    # (mp_pose.PoseLandmark.LEFT_KNEE.value, mp_pose.PoseLandmark.LEFT_ANKLE.value),\n",
    "    # (mp_pose.PoseLandmark.LEFT_ANKLE.value, mp_pose.PoseLandmark.LEFT_FOOT_INDEX.value)\n",
    "]"
   ],
   "id": "d47b214ded8d522b",
   "execution_count": 6,
   "outputs": []
  },
  {
   "metadata": {
    "ExecuteTime": {
     "end_time": "2024-12-11T10:28:47.208617Z",
     "start_time": "2024-12-11T10:28:06.161912Z"
    }
   },
   "cell_type": "code",
   "source": [
    "cap = cv2.VideoCapture(0)\n",
    "with mp_pose.Pose(min_detection_confidence=0.5, min_tracking_confidence=0.5) as pose:\n",
    "    counter = 0\n",
    "    stage = None\n",
    "    up = True\n",
    "    down = False\n",
    "    while cap.isOpened():\n",
    "        ret, frame = cap.read()\n",
    "    \n",
    "        frame = cv2.flip(frame, 1)\n",
    "    \n",
    "        image = cv2.cvtColor(frame, cv2.COLOR_BGR2RGB)\n",
    "        image.flags.writeable = False\n",
    "        results = pose.process(image)\n",
    "    \n",
    "        image.flags.writeable = True\n",
    "        image = cv2.cvtColor(image, cv2.COLOR_RGB2BGR)\n",
    "    \n",
    "        try:\n",
    "            landmarks = results.pose_landmarks.landmark\n",
    "    \n",
    "            right_shoulder = [landmarks[mp_pose.PoseLandmark.RIGHT_SHOULDER.value].x, landmarks[mp_pose.PoseLandmark.RIGHT_SHOULDER.value].y]\n",
    "            right_hip = [landmarks[mp_pose.PoseLandmark.RIGHT_HIP.value].x, landmarks[mp_pose.PoseLandmark.RIGHT_HIP.value].y]\n",
    "            right_knee = [landmarks[mp_pose.PoseLandmark.RIGHT_KNEE.value].x, landmarks[mp_pose.PoseLandmark.RIGHT_KNEE.value].y]\n",
    "            right_ankle = [landmarks[mp_pose.PoseLandmark.RIGHT_ANKLE.value].x, landmarks[mp_pose.PoseLandmark.RIGHT_ANKLE.value].y]\n",
    "            \n",
    "            shoulder_hip_vertical = calculate_angle_alt(right_shoulder, right_hip)\n",
    "            hip_knee_vertical = calculate_angle_alt(right_hip, right_knee)\n",
    "            knee_ankle_vertical = calculate_angle_alt(right_knee, right_ankle)\n",
    "            \n",
    "            cv2.putText(image, f'SH-HIP: {shoulder_hip_vertical:.1f}', \n",
    "                        tuple(np.multiply(right_hip, [640, 480]).astype(int)),\n",
    "                        cv2.FONT_HERSHEY_SIMPLEX, 0.5, (255, 255, 255), 2, cv2.LINE_AA)\n",
    "            cv2.putText(image, f'HIP-KNEE: {hip_knee_vertical:.1f}',\n",
    "                        tuple(np.multiply(right_knee, [640, 480]).astype(int)),\n",
    "                        cv2.FONT_HERSHEY_SIMPLEX, 0.5, (255, 255, 255), 2, cv2.LINE_AA)\n",
    "            cv2.putText(image, f'KNEE-ANKLE: {knee_ankle_vertical:.1f}',\n",
    "                        tuple(np.multiply(right_ankle, [640, 480]).astype(int)),\n",
    "                        cv2.FONT_HERSHEY_SIMPLEX, 0.5, (255, 255, 255), 2, cv2.LINE_AA)\n",
    "            \n",
    "            feedback = []\n",
    "            if shoulder_hip_vertical < 10:\n",
    "                feedback.append(\"Bend forward\")\n",
    "            if shoulder_hip_vertical > 25:\n",
    "                feedback.append(\"Bend backward\")\n",
    "            if 50 < hip_knee_vertical < 80:\n",
    "                feedback.append(\"Lower your hips\")\n",
    "            if hip_knee_vertical > 95:\n",
    "                feedback.append(\"Knees falling over toes\")\n",
    "            if knee_ankle_vertical > 30:\n",
    "                feedback.append(\"Squats too deep\")\n",
    "            \n",
    "            for i, msg in enumerate(feedback):\n",
    "                cv2.putText(image, msg, (10, 100 + i * 20),\n",
    "                            cv2.FONT_HERSHEY_SIMPLEX, 0.5, (0, 0, 255), 2, cv2.LINE_AA)\n",
    "\n",
    "            if up:\n",
    "                if hip_knee_vertical < 32:\n",
    "                    stage = \"stage1\"  # up\n",
    "                elif stage == \"stage1\" and 35 < hip_knee_vertical < 65:\n",
    "                    stage = \"stage2\"  # middle\n",
    "                elif stage == \"stage2\" and 75 < hip_knee_vertical < 95:\n",
    "                    stage = \"stage3\"  # down  \n",
    "                    down = True\n",
    "                    up = False\n",
    "                    \n",
    "            if down:\n",
    "                if stage == \"stage3\" and 35 < hip_knee_vertical < 65:\n",
    "                    stage = \"stage2\"\n",
    "                elif stage == \"stage2\" and hip_knee_vertical < 32:\n",
    "                    stage = \"stage1\"\n",
    "                    down = False\n",
    "                    up = True\n",
    "                    counter += 1     \n",
    "\n",
    "            cv2.putText(image, 'Count: ', (15, 12),\n",
    "                        cv2.FONT_HERSHEY_SIMPLEX, 0.5, (0, 0, 0), 1, cv2.LINE_AA)\n",
    "            cv2.putText(image, str(counter), (10, 60),\n",
    "                        cv2.FONT_HERSHEY_SIMPLEX, 2, (255, 255, 255), 2, cv2.LINE_AA)\n",
    "                \n",
    "        except:\n",
    "            pass\n",
    "\n",
    "        draw_landmarks(image, landmarks, selected_landmarks, connections)\n",
    "    \n",
    "        cv2.imshow('Mediapipe Feed', image)\n",
    "    \n",
    "        if cv2.waitKey(10) & 0xFF == ord('q'):\n",
    "            break\n",
    "    \n",
    "    cap.release()\n",
    "    cv2.destroyAllWindows()\n"
   ],
   "id": "8ceb1fc532fd44ee",
   "execution_count": 9,
   "outputs": []
  },
  {
   "metadata": {},
   "cell_type": "code",
   "execution_count": null,
   "source": "",
   "id": "2dbd83323e37fdd7",
   "outputs": []
  }
 ],
 "metadata": {
  "kernelspec": {
   "display_name": "Python 3",
   "language": "python",
   "name": "python3"
  },
  "language_info": {
   "codemirror_mode": {
    "name": "ipython",
    "version": 2
   },
   "file_extension": ".py",
   "mimetype": "text/x-python",
   "name": "python",
   "nbconvert_exporter": "python",
   "pygments_lexer": "ipython2",
   "version": "2.7.6"
  }
 },
 "nbformat": 4,
 "nbformat_minor": 5
}
