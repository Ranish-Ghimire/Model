{
 "cells": [
  {
   "cell_type": "code",
   "id": "initial_id",
   "metadata": {
    "collapsed": true,
    "ExecuteTime": {
     "end_time": "2024-12-13T11:29:22.798292Z",
     "start_time": "2024-12-13T11:29:21.597240Z"
    }
   },
   "source": [
    "import numpy as np\n",
    "\n",
    "sequence_length = 10\n",
    "frame_height, frame_width, channels = 224, 224, 3\n",
    "num_classes = 2\n",
    "\n",
    "X_data = np.memmap(r'E:\\PosePerfect\\Dataset Creation\\X_final.dat', dtype='float32', mode='r', shape=(5082, sequence_length, frame_height, frame_width, channels))\n",
    "y_data = np.memmap(r'E:\\PosePerfect\\Dataset Creation\\y_final.dat', dtype='int32', mode='r', shape=(5082,))"
   ],
   "execution_count": 1,
   "outputs": []
  },
  {
   "metadata": {
    "ExecuteTime": {
     "end_time": "2024-12-10T12:07:12.011235Z",
     "start_time": "2024-12-10T12:07:07.191659Z"
    }
   },
   "cell_type": "code",
   "source": [
    "# Build\n",
    "from tensorflow.keras.models import Model, Sequential\n",
    "from tensorflow.keras.layers import TimeDistributed, Conv2D, MaxPooling2D, Flatten, LSTM, Dense, Dropout\n",
    "\n",
    "def build_cnn_lstm_model(sequence_length, height, width, channels, num_classes):\n",
    "    model = Sequential([\n",
    "        # CNN: Process each frame individually using TimeDistributed\n",
    "        TimeDistributed(Conv2D(32, (3, 3), activation='relu', padding='same'), \n",
    "                        input_shape=(sequence_length, height, width, channels)),\n",
    "        TimeDistributed(MaxPooling2D(pool_size=(2, 2))),\n",
    "        TimeDistributed(Conv2D(64, (3, 3), activation='relu', padding='same')),\n",
    "        TimeDistributed(MaxPooling2D(pool_size=(2, 2))),\n",
    "        TimeDistributed(Flatten()),\n",
    "        \n",
    "        # LSTM: Learn temporal relationships between frames\n",
    "        LSTM(128, return_sequences=True),\n",
    "        Dropout(0.5),\n",
    "        LSTM(64),\n",
    "        Dropout(0.5),\n",
    "        \n",
    "        # Dense layers for classification\n",
    "        Dense(128, activation='relu'),\n",
    "        Dense(num_classes, activation='softmax')\n",
    "    ])\n",
    "    \n",
    "    model.compile(optimizer='adam', loss='categorical_crossentropy', metrics=['accuracy'])\n",
    "    return model\n",
    "\n",
    "cnn_lstm_model = build_cnn_lstm_model(sequence_length, frame_height, frame_width, channels, num_classes)\n",
    "cnn_lstm_model.summary()\n"
   ],
   "id": "3fea0cc17b1f1380",
   "execution_count": 4,
   "outputs": []
  },
  {
   "metadata": {
    "ExecuteTime": {
     "end_time": "2024-12-12T15:55:53.339757Z",
     "start_time": "2024-12-12T15:55:39.078593Z"
    }
   },
   "cell_type": "code",
   "source": [
    "from sklearn.model_selection import train_test_split\n",
    "\n",
    "X_train, X_val, y_train, y_val = train_test_split(X_data, y_data, test_size=0.2, random_state=42)\n",
    "\n",
    "print(f\"Training samples: {X_train.shape[0]}, Validation samples: {X_val.shape[0]}\")\n"
   ],
   "id": "b271a4fb40ebde19",
   "execution_count": 2,
   "outputs": []
  },
  {
   "metadata": {
    "ExecuteTime": {
     "end_time": "2024-12-10T12:11:50.644752Z",
     "start_time": "2024-12-10T12:11:50.522708Z"
    }
   },
   "cell_type": "code",
   "source": [
    "# Train\n",
    "history = cnn_lstm_model.fit(\n",
    "    X_train, y_train,\n",
    "    validation_data=(X_val, y_val),\n",
    "    epochs=20,\n",
    "    batch_size=16,\n",
    "    verbose=1\n",
    ")\n"
   ],
   "id": "14f8656ec8028c3c",
   "execution_count": 6,
   "outputs": []
  },
  {
   "metadata": {
    "ExecuteTime": {
     "end_time": "2024-12-13T03:51:25.141444Z",
     "start_time": "2024-12-12T15:56:18.055514Z"
    }
   },
   "cell_type": "code",
   "source": [
    "import numpy as np\n",
    "from tensorflow.keras.models import Sequential\n",
    "from tensorflow.keras.layers import TimeDistributed, Conv2D, MaxPooling2D, Flatten, LSTM, Dense, Dropout\n",
    "from sklearn.model_selection import train_test_split\n",
    "\n",
    "# Parameters\n",
    "sequence_length = 10\n",
    "frame_height = 224\n",
    "frame_width = 224\n",
    "channels = 3\n",
    "num_classes = 2  # Number of exercise types: biceps curl, squats\n",
    "batch_size = 5\n",
    "\n",
    "# Paths to memory-mapped files\n",
    "X_path = r'E:\\PosePerfect\\Dataset Creation\\X_final.dat'\n",
    "y_path = r'E:\\PosePerfect\\Dataset Creation\\y_final.dat'\n",
    "\n",
    "# Dataset shape\n",
    "total_sequences = 5082  # Adjust based on your dataset\n",
    "X_shape = (total_sequences, sequence_length, frame_height, frame_width, channels)\n",
    "y_shape = (total_sequences,)\n",
    "\n",
    "# **Step 1: Split the data into training and validation indices**\n",
    "indices = np.arange(total_sequences)  # Create an array of indices\n",
    "train_indices, val_indices = train_test_split(indices, test_size=0.2, random_state=42)  # Split indices\n",
    "\n",
    "print(f\"Training samples: {len(train_indices)}, Validation samples: {len(val_indices)}\")\n",
    "\n",
    "# **Step 2: Data generator**\n",
    "def data_generator(X_path, y_path, indices, batch_size):\n",
    "    # Load memory-mapped arrays\n",
    "    X_data = np.memmap(X_path, dtype='float32', mode='r', shape=X_shape)\n",
    "    y_data = np.memmap(y_path, dtype='int32', mode='r', shape=y_shape)\n",
    "    num_samples = len(indices)\n",
    "    \n",
    "    while True:\n",
    "        np.random.shuffle(indices)  # Shuffle indices for every epoch\n",
    "        for i in range(0, num_samples, batch_size):\n",
    "            batch_indices = indices[i:i + batch_size]\n",
    "            X_batch = X_data[batch_indices]\n",
    "            y_batch = y_data[batch_indices]\n",
    "            \n",
    "            # One-hot encode y_batch for categorical crossentropy\n",
    "            y_batch = np.eye(num_classes)[y_batch]  # One-hot encoding\n",
    "            \n",
    "            yield X_batch, y_batch\n",
    "\n",
    "# **Step 3: Build the CNN-LSTM model**\n",
    "def build_cnn_lstm_model(sequence_length, height, width, channels, num_classes):\n",
    "    model = Sequential([\n",
    "        # CNN: Process each frame individually using TimeDistributed\n",
    "        TimeDistributed(Conv2D(32, (3, 3), activation='relu', padding='same'), \n",
    "                        input_shape=(sequence_length, height, width, channels)),\n",
    "        TimeDistributed(MaxPooling2D(pool_size=(2, 2))),\n",
    "        TimeDistributed(Conv2D(64, (3, 3), activation='relu', padding='same')),\n",
    "        TimeDistributed(MaxPooling2D(pool_size=(2, 2))),\n",
    "        TimeDistributed(Conv2D(128, (3, 3), activation='relu', padding='same')),\n",
    "        TimeDistributed(MaxPooling2D(pool_size=(2, 2))),\n",
    "        TimeDistributed(Flatten()),  # Flatten the output of the CNN\n",
    "\n",
    "        # LSTM: Learn temporal relationships between frames\n",
    "        LSTM(128, return_sequences=True),\n",
    "        Dropout(0.5),\n",
    "        LSTM(64),\n",
    "        Dropout(0.5),\n",
    "\n",
    "        # Dense layers for classification\n",
    "        Dense(32, activation='relu'),\n",
    "        Dense(num_classes, activation='softmax')\n",
    "    ])\n",
    "    \n",
    "    model.compile(optimizer='adam', loss='categorical_crossentropy', metrics=['accuracy'])\n",
    "    return model\n",
    "\n",
    "# Instantiate the model\n",
    "cnn_lstm_model = build_cnn_lstm_model(sequence_length, frame_height, frame_width, channels, num_classes)\n",
    "cnn_lstm_model.summary()\n",
    "\n",
    "# **Step 4: Train the model using data generators**\n",
    "train_generator = data_generator(X_path, y_path, train_indices, batch_size)\n",
    "val_generator = data_generator(X_path, y_path, val_indices, batch_size)\n",
    "\n",
    "# Calculate steps per epoch\n",
    "steps_per_epoch_train = len(train_indices) // batch_size\n",
    "steps_per_epoch_val = len(val_indices) // batch_size\n",
    "\n",
    "# Train the model\n",
    "cnn_lstm_model.fit(\n",
    "    train_generator,\n",
    "    steps_per_epoch=steps_per_epoch_train,\n",
    "    validation_data=val_generator,\n",
    "    validation_steps=steps_per_epoch_val,\n",
    "    epochs=10  # Adjust epochs as needed\n",
    ")\n"
   ],
   "id": "9ede64c57fd938e6",
   "execution_count": 3,
   "outputs": []
  },
  {
   "metadata": {
    "ExecuteTime": {
     "end_time": "2024-12-13T03:57:38.710029Z",
     "start_time": "2024-12-13T03:57:22.614374Z"
    }
   },
   "cell_type": "code",
   "source": [
    "model_save_path = r'/Model/SavedModels/cnn_lstm_model_try1.h5'\n",
    "cnn_lstm_model.save(model_save_path)\n",
    "print(f\"Model saved at: {model_save_path}\")"
   ],
   "id": "85cdca86d6e72efd",
   "execution_count": 4,
   "outputs": []
  },
  {
   "metadata": {
    "ExecuteTime": {
     "end_time": "2024-12-13T11:32:57.514191Z",
     "start_time": "2024-12-13T11:32:14.354020Z"
    }
   },
   "cell_type": "code",
   "source": [
    "from tensorflow.keras.models import load_model\n",
    "\n",
    "loaded_model = load_model(r'E:\\PosePerfect\\Model\\SavedModels\\cnn_lstm_model_try1.h5')\n",
    "loaded_model.summary()"
   ],
   "id": "9fb30f649bdab77",
   "execution_count": 1,
   "outputs": []
  },
  {
   "metadata": {
    "ExecuteTime": {
     "end_time": "2024-12-13T11:31:00.486757Z",
     "start_time": "2024-12-13T11:31:00.445144Z"
    }
   },
   "cell_type": "code",
   "source": [
    "example_input = X_data = np.memmap(r'E:\\PosePerfect\\Model\\Process Example\\X_exam.dat', dtype='float32', mode='r', shape=(40, 10, 224, 224, 3))\n",
    "\n",
    "predictions = loaded_model.predict(example_input)\n",
    "predicted_class = np.argmax(predictions, axis=1)\n",
    "\n",
    "print(f\"Predicted class: {predicted_class}\")"
   ],
   "id": "da4f93f1fb3be41c",
   "execution_count": 4,
   "outputs": []
  },
  {
   "metadata": {
    "ExecuteTime": {
     "end_time": "2024-12-13T11:33:24.881415Z",
     "start_time": "2024-12-13T11:33:24.833590Z"
    }
   },
   "cell_type": "code",
   "source": "print('heyyy')",
   "id": "444b65481ed6451a",
   "execution_count": 11,
   "outputs": []
  },
  {
   "metadata": {
    "ExecuteTime": {
     "end_time": "2024-12-13T11:33:10.495101Z",
     "start_time": "2024-12-13T11:33:10.490064Z"
    }
   },
   "cell_type": "code",
   "source": "",
   "id": "f6cf4f2f25da709e",
   "execution_count": 9,
   "outputs": []
  },
  {
   "metadata": {},
   "cell_type": "code",
   "execution_count": null,
   "source": "",
   "id": "fdbc97a21bf5f3a3",
   "outputs": []
  }
 ],
 "metadata": {
  "kernelspec": {
   "display_name": "Python 3",
   "language": "python",
   "name": "python3"
  },
  "language_info": {
   "codemirror_mode": {
    "name": "ipython",
    "version": 2
   },
   "file_extension": ".py",
   "mimetype": "text/x-python",
   "name": "python",
   "nbconvert_exporter": "python",
   "pygments_lexer": "ipython2",
   "version": "2.7.6"
  }
 },
 "nbformat": 4,
 "nbformat_minor": 5
}
